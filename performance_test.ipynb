{
 "cells": [
  {
   "cell_type": "code",
   "execution_count": 1,
   "metadata": {},
   "outputs": [],
   "source": [
    "import duckdb, pandas as pd, os, numpy as np "
   ]
  },
  {
   "cell_type": "code",
   "execution_count": 6,
   "metadata": {},
   "outputs": [],
   "source": [
    "df = pd.read_parquet(os.getcwd() + '\\\\woi_results.parquet')\n",
    "df.rename(columns={'Service Level %': 'CSL'}, inplace=True)\n",
    "df['Strategic_Inv_Holding_DieBank'] = df['Strategic_Inv_Holding_DieBank'].apply(lambda x: True if x == 'Yes' else False)\n",
    "df['Strategic_Inv_Holding_FGWH'] = df['Strategic_Inv_Holding_FGWH'].apply(lambda x: True if x == 'Yes' else False)"
   ]
  },
  {
   "cell_type": "code",
   "execution_count": 21,
   "metadata": {},
   "outputs": [
    {
     "data": {
      "text/html": [
       "<div>\n",
       "<style scoped>\n",
       "    .dataframe tbody tr th:only-of-type {\n",
       "        vertical-align: middle;\n",
       "    }\n",
       "\n",
       "    .dataframe tbody tr th {\n",
       "        vertical-align: top;\n",
       "    }\n",
       "\n",
       "    .dataframe thead th {\n",
       "        text-align: right;\n",
       "    }\n",
       "</style>\n",
       "<table border=\"1\" class=\"dataframe\">\n",
       "  <thead>\n",
       "    <tr style=\"text-align: right;\">\n",
       "      <th></th>\n",
       "      <th>WaferStart_To_DieBank_LT_Wks</th>\n",
       "      <th>DieBank_To_FG_LT_Wks</th>\n",
       "      <th>Nbr_fg_skus_per_DieType</th>\n",
       "      <th>Upside_pct_over_LeadTime</th>\n",
       "      <th>CSL</th>\n",
       "      <th>Strategic_Inv_Holding_FGWH</th>\n",
       "      <th>Strategic_Inv_Holding_DieBank</th>\n",
       "      <th>trdi_woi</th>\n",
       "      <th>fgwh_woi</th>\n",
       "      <th>total_woi</th>\n",
       "    </tr>\n",
       "  </thead>\n",
       "  <tbody>\n",
       "    <tr>\n",
       "      <th>0</th>\n",
       "      <td>26</td>\n",
       "      <td>4</td>\n",
       "      <td>1</td>\n",
       "      <td>0.2</td>\n",
       "      <td>0.95</td>\n",
       "      <td>True</td>\n",
       "      <td>True</td>\n",
       "      <td>2.795431</td>\n",
       "      <td>2.42283</td>\n",
       "      <td>5.218261</td>\n",
       "    </tr>\n",
       "  </tbody>\n",
       "</table>\n",
       "</div>"
      ],
      "text/plain": [
       "   WaferStart_To_DieBank_LT_Wks  DieBank_To_FG_LT_Wks  \\\n",
       "0                            26                     4   \n",
       "\n",
       "   Nbr_fg_skus_per_DieType  Upside_pct_over_LeadTime   CSL  \\\n",
       "0                        1                       0.2  0.95   \n",
       "\n",
       "   Strategic_Inv_Holding_FGWH  Strategic_Inv_Holding_DieBank  trdi_woi  \\\n",
       "0                        True                           True  2.795431   \n",
       "\n",
       "   fgwh_woi  total_woi  \n",
       "0   2.42283   5.218261  "
      ]
     },
     "execution_count": 21,
     "metadata": {},
     "output_type": "execute_result"
    }
   ],
   "source": [
    "duckdb.sql('SELECT * FROM df WHERE WaferStart_To_DieBank_LT_Wks={} and DieBank_To_FG_LT_Wks={} and Nbr_fg_skus_per_DieType={} and Upside_pct_over_LeadTime={} and CSL={} and Strategic_Inv_Holding_DieBank={} and  Strategic_Inv_Holding_FGWH={}'.format(26, 4,1, .20,.95, True, True)).df().head(10)"
   ]
  },
  {
   "cell_type": "code",
   "execution_count": 24,
   "metadata": {},
   "outputs": [
    {
     "data": {
      "text/html": [
       "<div>\n",
       "<style scoped>\n",
       "    .dataframe tbody tr th:only-of-type {\n",
       "        vertical-align: middle;\n",
       "    }\n",
       "\n",
       "    .dataframe tbody tr th {\n",
       "        vertical-align: top;\n",
       "    }\n",
       "\n",
       "    .dataframe thead th {\n",
       "        text-align: right;\n",
       "    }\n",
       "</style>\n",
       "<table border=\"1\" class=\"dataframe\">\n",
       "  <thead>\n",
       "    <tr style=\"text-align: right;\">\n",
       "      <th></th>\n",
       "      <th>WaferStart_To_DieBank_LT_Wks</th>\n",
       "      <th>DieBank_To_FG_LT_Wks</th>\n",
       "      <th>Nbr_fg_skus_per_DieType</th>\n",
       "      <th>Upside_pct_over_LeadTime</th>\n",
       "      <th>CSL</th>\n",
       "      <th>Strategic_Inv_Holding_FGWH</th>\n",
       "      <th>Strategic_Inv_Holding_DieBank</th>\n",
       "      <th>trdi_woi</th>\n",
       "      <th>fgwh_woi</th>\n",
       "      <th>total_woi</th>\n",
       "    </tr>\n",
       "  </thead>\n",
       "  <tbody>\n",
       "    <tr>\n",
       "      <th>4944478</th>\n",
       "      <td>26</td>\n",
       "      <td>4</td>\n",
       "      <td>1</td>\n",
       "      <td>0.2</td>\n",
       "      <td>0.95</td>\n",
       "      <td>True</td>\n",
       "      <td>True</td>\n",
       "      <td>2.795431</td>\n",
       "      <td>2.42283</td>\n",
       "      <td>5.218261</td>\n",
       "    </tr>\n",
       "  </tbody>\n",
       "</table>\n",
       "</div>"
      ],
      "text/plain": [
       "         WaferStart_To_DieBank_LT_Wks  DieBank_To_FG_LT_Wks  \\\n",
       "4944478                            26                     4   \n",
       "\n",
       "         Nbr_fg_skus_per_DieType  Upside_pct_over_LeadTime   CSL  \\\n",
       "4944478                        1                       0.2  0.95   \n",
       "\n",
       "         Strategic_Inv_Holding_FGWH  Strategic_Inv_Holding_DieBank  trdi_woi  \\\n",
       "4944478                        True                           True  2.795431   \n",
       "\n",
       "         fgwh_woi  total_woi  \n",
       "4944478   2.42283   5.218261  "
      ]
     },
     "execution_count": 24,
     "metadata": {},
     "output_type": "execute_result"
    }
   ],
   "source": [
    "df.query('WaferStart_To_DieBank_LT_Wks=={} and DieBank_To_FG_LT_Wks=={} and Nbr_fg_skus_per_DieType=={} and Upside_pct_over_LeadTime=={} and CSL=={} and Strategic_Inv_Holding_DieBank=={} and  Strategic_Inv_Holding_FGWH=={}'.format(26, 4,1, .20,.95, True, True))"
   ]
  },
  {
   "cell_type": "code",
   "execution_count": null,
   "metadata": {},
   "outputs": [],
   "source": [
    "df['trdi_woi']= numpy.random.randint(0, 100, size=df.shape[0])"
   ]
  }
 ],
 "metadata": {
  "kernelspec": {
   "display_name": "ml_apps",
   "language": "python",
   "name": "python3"
  },
  "language_info": {
   "codemirror_mode": {
    "name": "ipython",
    "version": 3
   },
   "file_extension": ".py",
   "mimetype": "text/x-python",
   "name": "python",
   "nbconvert_exporter": "python",
   "pygments_lexer": "ipython3",
   "version": "3.9.18"
  },
  "orig_nbformat": 4
 },
 "nbformat": 4,
 "nbformat_minor": 2
}
